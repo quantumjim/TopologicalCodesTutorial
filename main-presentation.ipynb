{
 "cells": [
  {
   "cell_type": "markdown",
   "id": "1a3698de",
   "metadata": {},
   "source": [
    "# Getting to know qubits through QEC\n",
    "\n",
    "### James R. Wootton, IBM Quantum"
   ]
  },
  {
   "cell_type": "markdown",
   "id": "85c99904",
   "metadata": {},
   "source": [
    "## Introduction\n",
    "\n",
    "Back in 2018 I worked as a quantum error correction researcher at the University of Basel. IBM had just put a 16 qubit device online, and I wanted to see how well it could implement the basics of QEC. So I ran repetition codes.\n",
    "\n",
    "\n",
    "* *James R. Wootton and Daniel Loss Phys. Rev. A 97, 052313 (2018)*\n",
    "\n",
    "The main aim was to run codes of varying sizes, to test the idea that logical errors are suppressed with increasng code size. Here are the results from that 16 qubit device, which at that time was called *ibmqx3*.\n",
    "\n",
    "<img src=\"images/ibmqx3-decay.png\" alt=\"\" width=\"700\"/>\n",
    "\n",
    "Here the points show the probability of a logical error for different codes. The *partial decoding* is a simple majority voting of the final results of the code qubits. The *full decoding* takes the full set of results into account.\n",
    "\n",
    "The points here decrease in a manner that is a but bumpy, but largely linear. Note that the y axis is logarithmic. The results are therefore consistent with the logical error decreasing exponentially with code size.\n",
    "\n",
    "\n",
    "\n",
    "\n",
    "After a few months, the device was taken out of the fridge for a while and cooled down again. It's name changed to *ibmqx5* and its behaviour changed also.\n",
    "\n",
    "<img src=\"images/ibmqx5-decay.png\" alt=\"\" width=\"700\"/>\n",
    "\n",
    "Note the uptick of the partial decoding, which shows that something is not right.\n",
    "\n",
    "To see what is going on, we can look at a different kind of graph. For each qubit, what is the probability that it ends up in the `1` state?\n",
    "\n",
    "For *ibmqx3*, the results looked like the following.\n",
    "\n",
    "<img src=\"images/ibmqx3-1.png\" alt=\"\" width=\"900\"/>\n",
    "\n",
    "As more qubits are added in to the code, more get affected by the additional noise. But for those already in the code, the noise they experience appears to be the same. This is what we might expect from the repetition code, since the circuit experienced by any qubit is not affected by qubits far away.\n",
    "\n",
    "Now let's take a look at *ibmqx5* instead.\n",
    "\n",
    "<img src=\"images/ibmqx5-1.png\" alt=\"\" width=\"910\"/>\n",
    "\n",
    "In going from `d=7` to `d=8`, qubits 13 and 14 are added to the code. But the effects go far beyond just these. Many qubits are hit with a huge amount of noise, all the way down to qubit 9.\n",
    "\n",
    "This is what causes the uptick seen earlier, where increasing code size does not lead to less logical errors. It shows that the method used to make this device is not good enough to support large-scale quantum error correction. Because of problems such as this, IBM rethought how they arranged their qubits. And it was independently discovered by me, an external researcher running repetition codes.\n",
    "\n",
    "So what remains for us to discover in 2021?"
   ]
  },
  {
   "cell_type": "markdown",
   "id": "206a52dc",
   "metadata": {},
   "source": [
    "## Repetiton codes with Qiskit"
   ]
  },
  {
   "cell_type": "markdown",
   "id": "d84b05d0",
   "metadata": {},
   "source": [
    "Now let's make some repetition codes with Qiskit. We'll need `QuantumCircuit` objects, and `QuantumRegister` and `ClassicalRegister` objects."
   ]
  },
  {
   "cell_type": "code",
   "execution_count": null,
   "id": "6bc52aab",
   "metadata": {},
   "outputs": [],
   "source": [
    "from qiskit import QuantumCircuit, QuantumRegister, ClassicalRegister"
   ]
  },
  {
   "cell_type": "markdown",
   "id": "fad920ad",
   "metadata": {},
   "source": [
    "We'll also need too decide how big we want the code to be. Specifcially, the number of repetitions `d` and the number of syndrome measurement rounds `T`.\n",
    "\n",
    "To be able to see the circuits easily, we'll start with the minimum for `d`."
   ]
  },
  {
   "cell_type": "code",
   "execution_count": null,
   "id": "d04f526f",
   "metadata": {},
   "outputs": [],
   "source": [
    "d = 3"
   ]
  },
  {
   "cell_type": "markdown",
   "id": "1ea6f552",
   "metadata": {},
   "source": [
    "Let's also increase the value of `T` as we add measurement rounds to the circuit. So since we start with none..."
   ]
  },
  {
   "cell_type": "code",
   "execution_count": null,
   "id": "85e3f860",
   "metadata": {},
   "outputs": [],
   "source": [
    "T = 0"
   ]
  },
  {
   "cell_type": "markdown",
   "id": "9f2889fc",
   "metadata": {},
   "source": [
    "We start with an empty circuit"
   ]
  },
  {
   "cell_type": "code",
   "execution_count": null,
   "id": "f95f5ec5",
   "metadata": {},
   "outputs": [],
   "source": [
    "qc = QuantumCircuit()"
   ]
  },
  {
   "cell_type": "markdown",
   "id": "ad411c86",
   "metadata": {},
   "source": [
    "then we add `d` code qubits"
   ]
  },
  {
   "cell_type": "code",
   "execution_count": null,
   "id": "650a840c",
   "metadata": {},
   "outputs": [],
   "source": [
    "code_qubit = QuantumRegister(d, 'code_qubit')\n",
    "qc.add_register( code_qubit )"
   ]
  },
  {
   "cell_type": "markdown",
   "id": "f7a9a220",
   "metadata": {},
   "source": [
    "and `d-1` auxilliary qubits."
   ]
  },
  {
   "cell_type": "code",
   "execution_count": null,
   "id": "caa6d013",
   "metadata": {},
   "outputs": [],
   "source": [
    "link_qubit = QuantumRegister(d-1, 'link_qubit')\n",
    "qc.add_register( link_qubit )"
   ]
  },
  {
   "cell_type": "markdown",
   "id": "9b05c589",
   "metadata": {},
   "source": [
    "Then what we have is a `d=3`, `T=0` code for an encoded logical `0`. Which is still basically an empty circuit."
   ]
  },
  {
   "cell_type": "code",
   "execution_count": null,
   "id": "ba2d1cb7",
   "metadata": {},
   "outputs": [],
   "source": [
    "qc.draw(output='mpl')"
   ]
  },
  {
   "cell_type": "markdown",
   "id": "0bcdbf10",
   "metadata": {},
   "source": [
    "Now we can add the `cx` gates required for each syndrome measurement round. Each time this cell is run, it iterates `T` by 1."
   ]
  },
  {
   "cell_type": "code",
   "execution_count": null,
   "id": "7fca0dd1",
   "metadata": {},
   "outputs": [],
   "source": [
    "qc.barrier()\n",
    "\n",
    "# for each link qubit, add a cx for the code qubit on one side\n",
    "for j in range(d-1):\n",
    "    qc.cx(code_qubit[j],link_qubit[j])\n",
    "        \n",
    "# and then one for the other side\n",
    "for j in range(d-1):\n",
    "    qc.cx(code_qubit[j+1],link_qubit[j])\n",
    "    \n",
    "# add a classical register to hold results from this round\n",
    "link_bit = ClassicalRegister(d-1, 'round_'+str(T)+'_link_bit')\n",
    "qc.add_register(link_bit)\n",
    "\n",
    "# measure and then rest each link qubit to extract the syndrome\n",
    "for j in range(d-1):\n",
    "    qc.measure(link_qubit[j],link_bit[j])\n",
    "    qc.reset(link_qubit[j])\n",
    "        \n",
    "# iterate the number of rounds\n",
    "T += 1\n",
    "    \n",
    "qc.draw(output='mpl') # uncomment to draw circuit"
   ]
  },
  {
   "cell_type": "markdown",
   "id": "d4aff04b",
   "metadata": {},
   "source": [
    "Then we add the final readout of the code qubits."
   ]
  },
  {
   "cell_type": "code",
   "execution_count": null,
   "id": "976d2570",
   "metadata": {},
   "outputs": [],
   "source": [
    "qc.barrier()\n",
    "\n",
    "# add d bits for final readout of code qubits\n",
    "code_bit = ClassicalRegister(d, 'code_bit')\n",
    "qc.add_register(code_bit)\n",
    "\n",
    "# measure code qubits\n",
    "for j in range(d):\n",
    "    qc.measure(code_qubit[j],code_bit[j])\n",
    "    \n",
    "qc.draw(output='mpl') # uncomment to draw circuit"
   ]
  },
  {
   "cell_type": "markdown",
   "id": "36f44ea5",
   "metadata": {},
   "source": [
    "Now we have a code, we need a backend to run it on. We'll start with just a simulator.\n",
    "\n",
    "First we get the backend object for the simulator."
   ]
  },
  {
   "cell_type": "code",
   "execution_count": null,
   "id": "08cd946e",
   "metadata": {},
   "outputs": [],
   "source": [
    "from qiskit import Aer\n",
    "\n",
    "backend_sim = Aer.get_backend('aer_simulator')"
   ]
  },
  {
   "cell_type": "markdown",
   "id": "00eadb53",
   "metadata": {},
   "source": [
    "Then we use this to start the process of running the circuit, by creating the job object."
   ]
  },
  {
   "cell_type": "code",
   "execution_count": null,
   "id": "047fd217",
   "metadata": {},
   "outputs": [],
   "source": [
    "job = backend_sim.run(qc)"
   ]
  },
  {
   "cell_type": "markdown",
   "id": "6e48cdf0",
   "metadata": {},
   "source": [
    "Once the job has run, we extract the result object from this."
   ]
  },
  {
   "cell_type": "code",
   "execution_count": null,
   "id": "5ad7d98c",
   "metadata": {},
   "outputs": [],
   "source": [
    "result = job.result()"
   ]
  },
  {
   "cell_type": "markdown",
   "id": "d80b03ba",
   "metadata": {},
   "source": [
    "From this we can get our actual result: a histogram respresented as a Python dictionary."
   ]
  },
  {
   "cell_type": "code",
   "execution_count": null,
   "id": "d11afd88",
   "metadata": {},
   "outputs": [],
   "source": [
    "counts = result.get_counts()\n",
    "counts"
   ]
  },
  {
   "cell_type": "markdown",
   "id": "f87fbfe5",
   "metadata": {},
   "source": [
    "To see what happens when errors occur, let's manually insert some. Here are some circuits I made earlier."
   ]
  },
  {
   "cell_type": "code",
   "execution_count": null,
   "id": "138ca0ed",
   "metadata": {},
   "outputs": [],
   "source": [
    "examples_qasm = ['OPENQASM 2.0;\\ninclude \"qelib1.inc\";\\nqreg code_qubit[3];\\nqreg link_qubit[2];\\ncreg round_0_link_bit[2];\\ncreg round_1_link_bit[2];\\ncreg code_bit[3];\\nx code_qubit[0];\\nbarrier code_qubit[0],code_qubit[1],code_qubit[2],link_qubit[0],link_qubit[1];\\ncx code_qubit[0],link_qubit[0];\\ncx code_qubit[1],link_qubit[1];\\ncx code_qubit[1],link_qubit[0];\\ncx code_qubit[2],link_qubit[1];\\nmeasure link_qubit[0] -> round_0_link_bit[0];\\nreset link_qubit[0];\\nmeasure link_qubit[1] -> round_0_link_bit[1];\\nreset link_qubit[1];\\nbarrier code_qubit[0],code_qubit[1],code_qubit[2],link_qubit[0],link_qubit[1];\\ncx code_qubit[0],link_qubit[0];\\ncx code_qubit[1],link_qubit[1];\\ncx code_qubit[1],link_qubit[0];\\ncx code_qubit[2],link_qubit[1];\\nmeasure link_qubit[0] -> round_1_link_bit[0];\\nreset link_qubit[0];\\nmeasure link_qubit[1] -> round_1_link_bit[1];\\nreset link_qubit[1];\\nbarrier code_qubit[0],code_qubit[1],code_qubit[2],link_qubit[0],link_qubit[1];\\nmeasure code_qubit[0] -> code_bit[0];\\nmeasure code_qubit[1] -> code_bit[1];\\nmeasure code_qubit[2] -> code_bit[2];\\n', 'OPENQASM 2.0;\\ninclude \"qelib1.inc\";\\nqreg code_qubit[3];\\nqreg link_qubit[2];\\ncreg round_0_link_bit[2];\\ncreg round_1_link_bit[2];\\ncreg code_bit[3];\\nbarrier code_qubit[0],code_qubit[1],code_qubit[2],link_qubit[0],link_qubit[1];\\ncx code_qubit[0],link_qubit[0];\\ncx code_qubit[1],link_qubit[1];\\ncx code_qubit[1],link_qubit[0];\\ncx code_qubit[2],link_qubit[1];\\nmeasure link_qubit[0] -> round_0_link_bit[0];\\nreset link_qubit[0];\\nmeasure link_qubit[1] -> round_0_link_bit[1];\\nreset link_qubit[1];\\nx code_qubit[0];\\nbarrier code_qubit[0],code_qubit[1],code_qubit[2],link_qubit[0],link_qubit[1];\\ncx code_qubit[0],link_qubit[0];\\ncx code_qubit[1],link_qubit[1];\\ncx code_qubit[1],link_qubit[0];\\ncx code_qubit[2],link_qubit[1];\\nmeasure link_qubit[0] -> round_1_link_bit[0];\\nreset link_qubit[0];\\nmeasure link_qubit[1] -> round_1_link_bit[1];\\nreset link_qubit[1];\\nbarrier code_qubit[0],code_qubit[1],code_qubit[2],link_qubit[0],link_qubit[1];\\nmeasure code_qubit[0] -> code_bit[0];\\nmeasure code_qubit[1] -> code_bit[1];\\nmeasure code_qubit[2] -> code_bit[2];\\n', 'OPENQASM 2.0;\\ninclude \"qelib1.inc\";\\nqreg code_qubit[3];\\nqreg link_qubit[2];\\ncreg round_0_link_bit[2];\\ncreg round_1_link_bit[2];\\ncreg code_bit[3];\\nbarrier code_qubit[0],code_qubit[1],code_qubit[2],link_qubit[0],link_qubit[1];\\ncx code_qubit[0],link_qubit[0];\\ncx code_qubit[1],link_qubit[1];\\ncx code_qubit[1],link_qubit[0];\\ncx code_qubit[2],link_qubit[1];\\nmeasure link_qubit[0] -> round_0_link_bit[0];\\nreset link_qubit[0];\\nmeasure link_qubit[1] -> round_0_link_bit[1];\\nreset link_qubit[1];\\nbarrier code_qubit[0],code_qubit[1],code_qubit[2],link_qubit[0],link_qubit[1];\\ncx code_qubit[0],link_qubit[0];\\ncx code_qubit[1],link_qubit[1];\\ncx code_qubit[1],link_qubit[0];\\ncx code_qubit[2],link_qubit[1];\\nmeasure link_qubit[0] -> round_1_link_bit[0];\\nreset link_qubit[0];\\nmeasure link_qubit[1] -> round_1_link_bit[1];\\nreset link_qubit[1];\\nx code_qubit[0];\\nbarrier code_qubit[0],code_qubit[1],code_qubit[2],link_qubit[0],link_qubit[1];\\nmeasure code_qubit[0] -> code_bit[0];\\nmeasure code_qubit[1] -> code_bit[1];\\nmeasure code_qubit[2] -> code_bit[2];\\n', 'OPENQASM 2.0;\\ninclude \"qelib1.inc\";\\nqreg code_qubit[3];\\nqreg link_qubit[2];\\ncreg round_0_link_bit[2];\\ncreg round_1_link_bit[2];\\ncreg code_bit[3];\\nx code_qubit[1];\\nbarrier code_qubit[0],code_qubit[1],code_qubit[2],link_qubit[0],link_qubit[1];\\ncx code_qubit[0],link_qubit[0];\\ncx code_qubit[1],link_qubit[1];\\ncx code_qubit[1],link_qubit[0];\\ncx code_qubit[2],link_qubit[1];\\nmeasure link_qubit[0] -> round_0_link_bit[0];\\nreset link_qubit[0];\\nmeasure link_qubit[1] -> round_0_link_bit[1];\\nreset link_qubit[1];\\nbarrier code_qubit[0],code_qubit[1],code_qubit[2],link_qubit[0],link_qubit[1];\\ncx code_qubit[0],link_qubit[0];\\ncx code_qubit[1],link_qubit[1];\\ncx code_qubit[1],link_qubit[0];\\ncx code_qubit[2],link_qubit[1];\\nmeasure link_qubit[0] -> round_1_link_bit[0];\\nreset link_qubit[0];\\nmeasure link_qubit[1] -> round_1_link_bit[1];\\nreset link_qubit[1];\\nbarrier code_qubit[0],code_qubit[1],code_qubit[2],link_qubit[0],link_qubit[1];\\nmeasure code_qubit[0] -> code_bit[0];\\nmeasure code_qubit[1] -> code_bit[1];\\nmeasure code_qubit[2] -> code_bit[2];\\n', 'OPENQASM 2.0;\\ninclude \"qelib1.inc\";\\nqreg code_qubit[3];\\nqreg link_qubit[2];\\ncreg round_0_link_bit[2];\\ncreg round_1_link_bit[2];\\ncreg code_bit[3];\\nbarrier code_qubit[0],code_qubit[1],code_qubit[2],link_qubit[0],link_qubit[1];\\ncx code_qubit[0],link_qubit[0];\\ncx code_qubit[1],link_qubit[1];\\ncx code_qubit[1],link_qubit[0];\\ncx code_qubit[2],link_qubit[1];\\nmeasure link_qubit[0] -> round_0_link_bit[0];\\nreset link_qubit[0];\\nmeasure link_qubit[1] -> round_0_link_bit[1];\\nreset link_qubit[1];\\nx code_qubit[1];\\nbarrier code_qubit[0],code_qubit[1],code_qubit[2],link_qubit[0],link_qubit[1];\\ncx code_qubit[0],link_qubit[0];\\ncx code_qubit[1],link_qubit[1];\\ncx code_qubit[1],link_qubit[0];\\ncx code_qubit[2],link_qubit[1];\\nmeasure link_qubit[0] -> round_1_link_bit[0];\\nreset link_qubit[0];\\nmeasure link_qubit[1] -> round_1_link_bit[1];\\nreset link_qubit[1];\\nbarrier code_qubit[0],code_qubit[1],code_qubit[2],link_qubit[0],link_qubit[1];\\nmeasure code_qubit[0] -> code_bit[0];\\nmeasure code_qubit[1] -> code_bit[1];\\nmeasure code_qubit[2] -> code_bit[2];\\n', 'OPENQASM 2.0;\\ninclude \"qelib1.inc\";\\nqreg code_qubit[3];\\nqreg link_qubit[2];\\ncreg round_0_link_bit[2];\\ncreg round_1_link_bit[2];\\ncreg code_bit[3];\\nbarrier code_qubit[0],code_qubit[1],code_qubit[2],link_qubit[0],link_qubit[1];\\ncx code_qubit[0],link_qubit[0];\\ncx code_qubit[1],link_qubit[1];\\ncx code_qubit[1],link_qubit[0];\\ncx code_qubit[2],link_qubit[1];\\nmeasure link_qubit[0] -> round_0_link_bit[0];\\nreset link_qubit[0];\\nmeasure link_qubit[1] -> round_0_link_bit[1];\\nreset link_qubit[1];\\nbarrier code_qubit[0],code_qubit[1],code_qubit[2],link_qubit[0],link_qubit[1];\\ncx code_qubit[0],link_qubit[0];\\ncx code_qubit[1],link_qubit[1];\\ncx code_qubit[1],link_qubit[0];\\ncx code_qubit[2],link_qubit[1];\\nmeasure link_qubit[0] -> round_1_link_bit[0];\\nreset link_qubit[0];\\nmeasure link_qubit[1] -> round_1_link_bit[1];\\nreset link_qubit[1];\\nx code_qubit[1];\\nbarrier code_qubit[0],code_qubit[1],code_qubit[2],link_qubit[0],link_qubit[1];\\nmeasure code_qubit[0] -> code_bit[0];\\nmeasure code_qubit[1] -> code_bit[1];\\nmeasure code_qubit[2] -> code_bit[2];\\n', 'OPENQASM 2.0;\\ninclude \"qelib1.inc\";\\nqreg code_qubit[3];\\nqreg link_qubit[2];\\ncreg round_0_link_bit[2];\\ncreg round_1_link_bit[2];\\ncreg code_bit[3];\\nbarrier code_qubit[0],code_qubit[1],code_qubit[2],link_qubit[0],link_qubit[1];\\ncx code_qubit[0],link_qubit[0];\\ncx code_qubit[1],link_qubit[1];\\nx code_qubit[1];\\ncx code_qubit[1],link_qubit[0];\\ncx code_qubit[2],link_qubit[1];\\nmeasure link_qubit[0] -> round_0_link_bit[0];\\nreset link_qubit[0];\\nmeasure link_qubit[1] -> round_0_link_bit[1];\\nreset link_qubit[1];\\nbarrier code_qubit[0],code_qubit[1],code_qubit[2],link_qubit[0],link_qubit[1];\\ncx code_qubit[0],link_qubit[0];\\ncx code_qubit[1],link_qubit[1];\\ncx code_qubit[1],link_qubit[0];\\ncx code_qubit[2],link_qubit[1];\\nmeasure link_qubit[0] -> round_1_link_bit[0];\\nreset link_qubit[0];\\nmeasure link_qubit[1] -> round_1_link_bit[1];\\nreset link_qubit[1];\\nbarrier code_qubit[0],code_qubit[1],code_qubit[2],link_qubit[0],link_qubit[1];\\nmeasure code_qubit[0] -> code_bit[0];\\nmeasure code_qubit[1] -> code_bit[1];\\nmeasure code_qubit[2] -> code_bit[2];\\n', 'OPENQASM 2.0;\\ninclude \"qelib1.inc\";\\nqreg code_qubit[3];\\nqreg link_qubit[2];\\ncreg round_0_link_bit[2];\\ncreg round_1_link_bit[2];\\ncreg code_bit[3];\\nbarrier code_qubit[0],code_qubit[1],code_qubit[2],link_qubit[0],link_qubit[1];\\ncx code_qubit[0],link_qubit[0];\\ncx code_qubit[1],link_qubit[1];\\ncx code_qubit[1],link_qubit[0];\\ncx code_qubit[2],link_qubit[1];\\nx link_qubit[1];\\nmeasure link_qubit[0] -> round_0_link_bit[0];\\nreset link_qubit[0];\\nmeasure link_qubit[1] -> round_0_link_bit[1];\\nreset link_qubit[1];\\nbarrier code_qubit[0],code_qubit[1],code_qubit[2],link_qubit[0],link_qubit[1];\\ncx code_qubit[0],link_qubit[0];\\ncx code_qubit[1],link_qubit[1];\\ncx code_qubit[1],link_qubit[0];\\ncx code_qubit[2],link_qubit[1];\\nmeasure link_qubit[0] -> round_1_link_bit[0];\\nreset link_qubit[0];\\nmeasure link_qubit[1] -> round_1_link_bit[1];\\nreset link_qubit[1];\\nbarrier code_qubit[0],code_qubit[1],code_qubit[2],link_qubit[0],link_qubit[1];\\nmeasure code_qubit[0] -> code_bit[0];\\nmeasure code_qubit[1] -> code_bit[1];\\nmeasure code_qubit[2] -> code_bit[2];\\n', 'OPENQASM 2.0;\\ninclude \"qelib1.inc\";\\nqreg code_qubit[3];\\nqreg link_qubit[2];\\ncreg round_0_link_bit[2];\\ncreg round_1_link_bit[2];\\ncreg code_bit[3];\\nbarrier code_qubit[0],code_qubit[1],code_qubit[2],link_qubit[0],link_qubit[1];\\ncx code_qubit[0],link_qubit[0];\\ncx code_qubit[1],link_qubit[1];\\ncx code_qubit[1],link_qubit[0];\\ncx code_qubit[2],link_qubit[1];\\nmeasure link_qubit[0] -> round_0_link_bit[0];\\nreset link_qubit[0];\\nmeasure link_qubit[1] -> round_0_link_bit[1];\\nreset link_qubit[1];\\nbarrier code_qubit[0],code_qubit[1],code_qubit[2],link_qubit[0],link_qubit[1];\\ncx code_qubit[0],link_qubit[0];\\ncx code_qubit[1],link_qubit[1];\\ncx code_qubit[1],link_qubit[0];\\ncx code_qubit[2],link_qubit[1];\\nx link_qubit[1];\\nmeasure link_qubit[0] -> round_1_link_bit[0];\\nreset link_qubit[0];\\nmeasure link_qubit[1] -> round_1_link_bit[1];\\nreset link_qubit[1];\\nbarrier code_qubit[0],code_qubit[1],code_qubit[2],link_qubit[0],link_qubit[1];\\nmeasure code_qubit[0] -> code_bit[0];\\nmeasure code_qubit[1] -> code_bit[1];\\nmeasure code_qubit[2] -> code_bit[2];\\n']"
   ]
  },
  {
   "cell_type": "code",
   "execution_count": null,
   "id": "e68f7dd2",
   "metadata": {},
   "outputs": [],
   "source": [
    "examples = []\n",
    "for qasm in examples_qasm:\n",
    "    examples.append(QuantumCircuit.from_qasm_str(qasm))"
   ]
  },
  {
   "cell_type": "markdown",
   "id": "211c540e",
   "metadata": {},
   "source": [
    "The errors seen here are the following.\n",
    "\n",
    "* 0: Initialization error on `code_qubit[0]`\n",
    "* 1: Error on `code_qubit[0]` while idle during first round of measurements.\n",
    "* 2: Error on `code_qubit[0]` while idle during second round of measurements.\n",
    "* 3: Initialization error on `code_qubit[1]`\n",
    "* 4: Error on `code_qubit[1]` while idle during first round of measurements.\n",
    "* 5: Error on `code_qubit[1]` while idle during second round of measurements.\n",
    "* 6: Error on `code_qubit[1]` between `cx` gates of first syndrome measurement.\n",
    "* 7: Measurement error on `link_qubit[1]` during first round of measurements.\n",
    "* 8: Measurement error on `link_qubit[1]` during second round of measurements.\n",
    "\n",
    "Let's take a look at each circuit"
   ]
  },
  {
   "cell_type": "code",
   "execution_count": null,
   "id": "bb87b75f",
   "metadata": {},
   "outputs": [],
   "source": [
    "example = examples[0]\n",
    "example.draw(output='mpl')"
   ]
  },
  {
   "cell_type": "markdown",
   "id": "07ac59e8",
   "metadata": {},
   "source": [
    "and the effect that it has"
   ]
  },
  {
   "cell_type": "code",
   "execution_count": null,
   "id": "7f8f4c53",
   "metadata": {},
   "outputs": [],
   "source": [
    "job = backend_sim.run(example)\n",
    "counts = job.result().get_counts()\n",
    "print(counts)"
   ]
  },
  {
   "cell_type": "markdown",
   "id": "50b80787",
   "metadata": {},
   "source": [
    "These results have two parts:\n",
    "* On the left, a `d`-bit string of the final code qubit readouts;\n",
    "* On the right, `T` lots of `d-1`-bit strings of the syndrome measurement readouts (with the rightmost being the first).\n",
    "\n",
    "The final code qubit readouts tell us two important things:\n",
    "* A final syndrome measurememnt (inferred from comparing bit values);\n",
    "* The value of the logical bit.\n",
    "\n",
    "It therefore makes sense to process the result a bit to separate out these aspects."
   ]
  },
  {
   "cell_type": "code",
   "execution_count": null,
   "id": "b50d1d0f",
   "metadata": {},
   "outputs": [],
   "source": [
    "def process_1(output):\n",
    "    \n",
    "    output = output.split(' ')\n",
    "    logical = output[0][0]+' '+output[0][-1]\n",
    "\n",
    "    final = ''\n",
    "    for j in range(d-1):\n",
    "        if output[0][j]==output[0][j+1]:\n",
    "            final += '0'\n",
    "        else:\n",
    "            final += '1'\n",
    "    output[0] = final     \n",
    "    \n",
    "    output = logical + '  ' + ' '.join(output)\n",
    "    \n",
    "    return output\n",
    "\n",
    "output = list(counts.keys())[0]\n",
    "process_1(output)"
   ]
  },
  {
   "cell_type": "markdown",
   "id": "986f6bd1",
   "metadata": {},
   "source": [
    "Here the processed output again has two parts:\n",
    "* On the left, two opinions on what the logical bit value is (taken from the code qubits at each end of the code);\n",
    "* On the right `T+1` lots of `d-1`-bit strings of the syndrome measurement readouts (including the inferred one from the final readout.\n",
    "\n",
    "If you are wondering why we take two opinions on the logical readout: it's because it will make things nice later.\n",
    "\n",
    "As we saw in the lecture, it is not actually the syndrome values themselves that are useful, but it is their changes. So there's some more processing we can do, to output the syndrome changes instead of the values themselves."
   ]
  },
  {
   "cell_type": "code",
   "execution_count": null,
   "id": "40fbbe12",
   "metadata": {},
   "outputs": [],
   "source": [
    "def process_2(output):\n",
    "    \n",
    "    output = output.split('  ')\n",
    "    logical = output[0]\n",
    "    syndrome = output[1].split(' ') [::-1]  \n",
    "    \n",
    "    changes = [syndrome[0]]\n",
    "    for t in range(T):\n",
    "        change = ''\n",
    "        for j in range(d-1):\n",
    "            if syndrome[t][j]==syndrome[t+1][j]:\n",
    "                change += '0'\n",
    "            else:\n",
    "                change += '1'\n",
    "        changes.append(change)\n",
    "    \n",
    "    output = logical + '  ' + ' '.join(changes[::-1])\n",
    "    \n",
    "    return output\n",
    "\n",
    "process_2(process_1(output))"
   ]
  },
  {
   "cell_type": "markdown",
   "id": "ea3ad700",
   "metadata": {},
   "source": [
    "Now let's take a look at the effect on all the examples."
   ]
  },
  {
   "cell_type": "code",
   "execution_count": null,
   "id": "9de46bae",
   "metadata": {},
   "outputs": [],
   "source": [
    "example = examples[0]\n",
    "\n",
    "job = backend_sim.run(example)\n",
    "counts = job.result().get_counts()\n",
    "\n",
    "output = list(counts.keys())[0]\n",
    "process_2(process_1(output))"
   ]
  },
  {
   "cell_type": "markdown",
   "id": "a9c38077",
   "metadata": {},
   "source": [
    "Each inserted single qubit error results in a pair of syndrome changes, or one syndrome change and one logical value change. Either way, a unique pair of changes happen depending on exactly where and when the error happened. It is this that allows us to figure out what errors occurred, and how to correct them."
   ]
  },
  {
   "cell_type": "markdown",
   "id": "c9dd0c80",
   "metadata": {},
   "source": [
    "## Repetition Codes with `topological_codes`\n",
    "\n",
    "Though it was good for us to see how to create repetition codes manually, the process is automated using `topological_codes` within Qiskit."
   ]
  },
  {
   "cell_type": "code",
   "execution_count": null,
   "id": "e6e14fd3",
   "metadata": {},
   "outputs": [],
   "source": [
    "from qiskit.ignis.verification.topological_codes import RepetitionCode"
   ]
  },
  {
   "cell_type": "markdown",
   "id": "a87f4ae2",
   "metadata": {},
   "source": [
    "We can create a repetition code object using"
   ]
  },
  {
   "cell_type": "code",
   "execution_count": null,
   "id": "4dcd43f2",
   "metadata": {},
   "outputs": [],
   "source": [
    "d = 3\n",
    "T = 2\n",
    "\n",
    "code = RepetitionCode(d,T,resets=True)"
   ]
  },
  {
   "cell_type": "markdown",
   "id": "6404e9c3",
   "metadata": {},
   "source": [
    "In this we have `code.circuit['0']` which contains the circuit for a stored logical `0`, like the one we just created."
   ]
  },
  {
   "cell_type": "code",
   "execution_count": null,
   "id": "caaabc19",
   "metadata": {},
   "outputs": [],
   "source": [
    "code.circuit['0'].draw(output='mpl')"
   ]
  },
  {
   "cell_type": "markdown",
   "id": "0be8825e",
   "metadata": {},
   "source": [
    "And there's also one for a stored logical `1`."
   ]
  },
  {
   "cell_type": "code",
   "execution_count": null,
   "id": "20069070",
   "metadata": {},
   "outputs": [],
   "source": [
    "code.circuit['1'].draw(output='mpl')"
   ]
  },
  {
   "cell_type": "markdown",
   "id": "1e596fe3",
   "metadata": {},
   "source": [
    "Let's combine these into a list and run them in the same job"
   ]
  },
  {
   "cell_type": "code",
   "execution_count": null,
   "id": "26979c64",
   "metadata": {},
   "outputs": [],
   "source": [
    "job = backend_sim.run([code.circuit['0'], code.circuit['1']])"
   ]
  },
  {
   "cell_type": "markdown",
   "id": "5a9a6a2b",
   "metadata": {},
   "source": [
    "and then put the results together in the same dictionary"
   ]
  },
  {
   "cell_type": "code",
   "execution_count": null,
   "id": "b0f23659",
   "metadata": {},
   "outputs": [],
   "source": [
    "raw_results = {'0':job.result().get_counts(code.circuit['0']), '1':job.result().get_counts(code.circuit['1'])}\n",
    "raw_results"
   ]
  },
  {
   "cell_type": "markdown",
   "id": "06986a72",
   "metadata": {},
   "source": [
    "Since there are no errors, the results aren't very interesting. Just the standard code qubit readout on the left (all reflecting the logical value), and syndrome values on the right (detecting no errors).\n",
    "\n",
    "However, interesting or not, the code object allows us to process the results in the manner discussed earlier."
   ]
  },
  {
   "cell_type": "code",
   "execution_count": null,
   "id": "962ccf1c",
   "metadata": {},
   "outputs": [],
   "source": [
    "results = code.process_results(raw_results)\n",
    "results"
   ]
  },
  {
   "cell_type": "markdown",
   "id": "f934b4c8",
   "metadata": {},
   "source": [
    "To get some more interesting results, we can run the code on real quantum hardware. For that we need to load our IBMQ account."
   ]
  },
  {
   "cell_type": "code",
   "execution_count": null,
   "id": "056156f8",
   "metadata": {},
   "outputs": [],
   "source": [
    "from qiskit import IBMQ\n",
    "provider = IBMQ.load_account()"
   ]
  },
  {
   "cell_type": "markdown",
   "id": "78fa57fe",
   "metadata": {},
   "source": [
    "We'll use a suitable device: the 5 qubit `'ibmq_manila'`."
   ]
  },
  {
   "cell_type": "code",
   "execution_count": null,
   "id": "78f54405",
   "metadata": {},
   "outputs": [],
   "source": [
    "backend = provider.get_backend('ibmq_manila')"
   ]
  },
  {
   "cell_type": "markdown",
   "id": "3f579fab",
   "metadata": {},
   "source": [
    "With some fancy Jupyter tools, we can take a look at it and its properties."
   ]
  },
  {
   "cell_type": "code",
   "execution_count": null,
   "id": "9113deb9",
   "metadata": {},
   "outputs": [],
   "source": [
    "import qiskit.tools.jupyter\n",
    "backend"
   ]
  },
  {
   "cell_type": "markdown",
   "id": "7b5011fe",
   "metadata": {},
   "source": [
    "Before running on this device, we need to transpile the circuit. This means rewriting it purely in terms of the gates that the device can directly use. For this we use Qiskit's `transpile` command."
   ]
  },
  {
   "cell_type": "code",
   "execution_count": null,
   "id": "a95ee344",
   "metadata": {},
   "outputs": [],
   "source": [
    "from qiskit import transpile\n",
    "\n",
    "transpiled_circuits = {\n",
    "    bit:transpile(code.circuit[bit], backend=backend) for bit in ['0','1']\n",
    "}"
   ]
  },
  {
   "cell_type": "markdown",
   "id": "2285569f",
   "metadata": {},
   "source": [
    "Let's take a look at how the circuit has changed, the original had the following number of each type of gate"
   ]
  },
  {
   "cell_type": "code",
   "execution_count": null,
   "id": "aa54631c",
   "metadata": {},
   "outputs": [],
   "source": [
    "code.circuit['0'].count_ops()"
   ]
  },
  {
   "cell_type": "markdown",
   "id": "96d5cd68",
   "metadata": {},
   "source": [
    "For the transpiled circuit, these numbers have changed"
   ]
  },
  {
   "cell_type": "code",
   "execution_count": null,
   "id": "ad6face8",
   "metadata": {},
   "outputs": [],
   "source": [
    "transpiled_circuits['0'].count_ops()"
   ]
  },
  {
   "cell_type": "markdown",
   "id": "fd4fc75a",
   "metadata": {},
   "source": [
    "For some reason, the transpilation has increased the number of `cx` gates. To see why, we can use the `qubits` attribute of a circuit to see what order it considers its qubits to be in."
   ]
  },
  {
   "cell_type": "code",
   "execution_count": null,
   "id": "a8b967f7",
   "metadata": {},
   "outputs": [],
   "source": [
    "code.circuit['0'].qubits"
   ]
  },
  {
   "cell_type": "markdown",
   "id": "bb1b44e6",
   "metadata": {},
   "source": [
    "This means that it will initially try to use qubit 0 on the device as `link_qubit[0]`, qubit 1 as `link_qubit[1]`, qubit 3 as `code_qubit[0]` and so on. But this presents a problem. The circuit needs to do a `cx` between `code_qubit[0]` and `link_qubit[0]`, and so will try to do one between qubits 0 and 2 of the device. But the device does not allow such `cx` gates, and so it will have to do some tricks to create an effective `cx` gate between these two. It's these tricks that require more `cx` gates to be added.\n",
    "\n",
    "In this case, we don't actually require the tricks. In fact, we actively don't want them. We want to know exactly which qubit on the device is doing which job, so we can get some insight about their errors. We don't want strange transpilation confusing things.\n",
    "\n",
    "To solve this issue we can tell the transpiler which qubit should be doing which job. Our circuit will work fine if the qubits are given jobs as follows.\n",
    "\n",
    "```\n",
    "qubit on device           0 ------------- 1 ------------- 2 ------------- 3 ------------- 4\n",
    "\n",
    "qubut in circuit    code_qubit[0] - link_qubit[0] - code_qubit[1] - link_qubit[1] - code_qubit[2]\n",
    "\n",
    "```\n",
    "\n",
    "So we make an `initial_layout` telling this information to the transpiler, listing the qubits on the device in the order of the `qubits` list above."
   ]
  },
  {
   "cell_type": "code",
   "execution_count": null,
   "id": "3b9336ff",
   "metadata": {},
   "outputs": [],
   "source": [
    "initial_layout = [\n",
    "    1,\n",
    "    3,\n",
    "    0,\n",
    "    2,\n",
    "    4\n",
    "]\n",
    "\n",
    "transpiled_circuits = {\n",
    "    bit:transpile(code.circuit[bit], backend=backend, initial_layout=initial_layout) for bit in ['0','1']\n",
    "}\n",
    "\n",
    "transpiled_circuits['0'].count_ops()"
   ]
  },
  {
   "cell_type": "markdown",
   "id": "93a8358e",
   "metadata": {},
   "source": [
    "Now we are ready to send the job."
   ]
  },
  {
   "cell_type": "code",
   "execution_count": null,
   "id": "7bdfc9e4",
   "metadata": {},
   "outputs": [],
   "source": [
    "job = backend.run([transpiled_circuits['0'], transpiled_circuits['1']], shots=8192)"
   ]
  },
  {
   "cell_type": "markdown",
   "id": "6ee290f9",
   "metadata": {},
   "source": [
    "As soon as it is sent, we can get the job id."
   ]
  },
  {
   "cell_type": "code",
   "execution_count": null,
   "id": "e3b52080",
   "metadata": {},
   "outputs": [],
   "source": [
    "job.job_id()"
   ]
  },
  {
   "cell_type": "markdown",
   "id": "3fbe2d63",
   "metadata": {},
   "source": [
    "You won't need to use the next cell, since you are running the job live. But I'm retreiving the job I ran when preparing this notebook, which can be done with the job id."
   ]
  },
  {
   "cell_type": "code",
   "execution_count": null,
   "id": "d080b0bb",
   "metadata": {},
   "outputs": [],
   "source": [
    "job = backend.retrieve_job('6169a1ecf21fca33b6773e3b')"
   ]
  },
  {
   "cell_type": "markdown",
   "id": "3b16f91d",
   "metadata": {},
   "source": [
    "This won't work for you, though. You'll need to submit your own jobs and get your own job ids.\n",
    "\n",
    "Once the job has run, we can extract the raw results. Here we'll see more than just the simple case with no errors."
   ]
  },
  {
   "cell_type": "code",
   "execution_count": null,
   "id": "c59c9975",
   "metadata": {},
   "outputs": [],
   "source": [
    "raw_results = {\n",
    "    '0':job.result().get_counts(transpiled_circuits['0']),\n",
    "    '1':job.result().get_counts(transpiled_circuits['1'])\n",
    "}\n",
    "\n",
    "#raw_results # uncomment to see results"
   ]
  },
  {
   "cell_type": "code",
   "execution_count": null,
   "id": "79417be5",
   "metadata": {},
   "outputs": [],
   "source": []
  },
  {
   "cell_type": "markdown",
   "id": "c0850e6c",
   "metadata": {},
   "source": [
    "Let's process these results to see the syndrome changes."
   ]
  },
  {
   "cell_type": "code",
   "execution_count": null,
   "id": "a08d06d9",
   "metadata": {},
   "outputs": [],
   "source": [
    "results = code.process_results(raw_results)\n",
    "#results # uncomment to see results"
   ]
  },
  {
   "cell_type": "markdown",
   "id": "0971fc1c",
   "metadata": {},
   "source": [
    "Here we can see that the most likely outcome is the one that represents no errors. Then there are many that represent a single bit flip error somewhere, which we see from the fact that there are two syndrome changes. Then there are less likely cases with more than one error.\n",
    "\n",
    "One way we can process this data to get an idea of what is happening on the device is to calculate the logical error probability. This goes through all the different results, runs decoding to see what the most likely encoded value is for that result, and then compares that to what the encoded value is known to be.\n",
    "\n",
    "To run decoding, we need the decoder object for the code."
   ]
  },
  {
   "cell_type": "code",
   "execution_count": null,
   "id": "e542a3fd",
   "metadata": {},
   "outputs": [],
   "source": [
    "from qiskit.ignis.verification.topological_codes import GraphDecoder\n",
    "\n",
    "decoder = GraphDecoder(code)"
   ]
  },
  {
   "cell_type": "markdown",
   "id": "7ad9b0f0",
   "metadata": {},
   "source": [
    "Then we simply feed in the results to its `get_logical_prob` method."
   ]
  },
  {
   "cell_type": "code",
   "execution_count": null,
   "id": "56767fc6",
   "metadata": {},
   "outputs": [],
   "source": [
    "decoder.get_logical_prob(results)"
   ]
  },
  {
   "cell_type": "markdown",
   "id": "9d0352d4",
   "metadata": {},
   "source": [
    "Typically we find that the logical error probability is much worse for an encoded `1`, due to the fact that bit flips are much more likely to flip `1`s to `0`s than vice-versa.\n",
    "\n",
    "To get a more detailed picture of life on the device, we can also look at the probabiity for specific error processes."
   ]
  },
  {
   "cell_type": "code",
   "execution_count": null,
   "id": "a987565a",
   "metadata": {},
   "outputs": [],
   "source": [
    "probs = decoder.get_error_probs(results)"
   ]
  },
  {
   "cell_type": "markdown",
   "id": "333c2d3d",
   "metadata": {},
   "source": [
    "Here each error process is referred to by a pair of coordinates, which aren't very easy to understand at first glance. These coordinates refer to where the two syndrome changes are for this particular type of error.\n",
    "\n",
    "To get a better idea of what these mean, we can go through all the example errors from earler and find their coordinates."
   ]
  },
  {
   "cell_type": "code",
   "execution_count": null,
   "id": "d824effd",
   "metadata": {},
   "outputs": [],
   "source": [
    "example_nodes = []\n",
    "\n",
    "for example in examples:\n",
    "\n",
    "    job = backend_sim.run(example)\n",
    "    counts = job.result().get_counts()\n",
    "    output = list(counts.keys())[0]\n",
    "    \n",
    "    example_nodes.append( tuple(decoder._string2nodes(process_2(process_1(output)))) )\n",
    "    \n",
    "example_nodes"
   ]
  },
  {
   "cell_type": "markdown",
   "id": "78e95e6d",
   "metadata": {},
   "source": [
    "So now we know that the initialization error on `code_qubit[0]` corresponds to `((0, 1, 0), (1, 2, 1))`, and occurs with probability"
   ]
  },
  {
   "cell_type": "code",
   "execution_count": null,
   "id": "57ad912b",
   "metadata": {},
   "outputs": [],
   "source": [
    "probs[((0, 1, 0), (1, 2, 1))]"
   ]
  },
  {
   "cell_type": "markdown",
   "id": "c2ceb84d",
   "metadata": {},
   "source": [
    "and so on.\n",
    "\n",
    "Now let's look at a different implementation of the `d=3`, `T=2` code for comparison. This time we'll remove the `reset` gates. These are pretty slow things to have in the middle of a circuit. They aren't really needed either, since their job can be done in post-processing."
   ]
  },
  {
   "cell_type": "code",
   "execution_count": null,
   "id": "b70345b6",
   "metadata": {},
   "outputs": [],
   "source": [
    "code_no_resets = RepetitionCode(d,T,resets=False)\n",
    "\n",
    "transpiled_circuits = {\n",
    "    bit:transpile(code_no_resets.circuit[bit], backend=backend, initial_layout=initial_layout) for bit in ['0','1']\n",
    "}\n",
    "\n",
    "job = backend.run([transpiled_circuits['0'], transpiled_circuits['1']])\n",
    "\n",
    "job.job_id()"
   ]
  },
  {
   "cell_type": "markdown",
   "id": "6f8bf18c",
   "metadata": {},
   "source": [
    "Again, I can retrieve the job sent when preparing this notebook."
   ]
  },
  {
   "cell_type": "code",
   "execution_count": null,
   "id": "255dfcc7",
   "metadata": {},
   "outputs": [],
   "source": [
    "job = backend.retrieve_job('6169a2852f4fbaf6f11b9607')"
   ]
  },
  {
   "cell_type": "markdown",
   "id": "7595791b",
   "metadata": {},
   "source": [
    "And however we got the job object, we can then get the results."
   ]
  },
  {
   "cell_type": "code",
   "execution_count": null,
   "id": "90ff858f",
   "metadata": {},
   "outputs": [],
   "source": [
    "raw_results = {\n",
    "    '0':job.result().get_counts(transpiled_circuits['0']),\n",
    "    '1':job.result().get_counts(transpiled_circuits['1'])\n",
    "}\n",
    "\n",
    "results_no_resets = code_no_resets.process_results(raw_results)"
   ]
  },
  {
   "cell_type": "markdown",
   "id": "09497a11",
   "metadata": {},
   "source": [
    "Sometimes resusing a qubit immediately after measurement (as was done above) is not a good idea. When we remove the resets, we might therefore need to add a delay gate in instead. This is done by initializing the code in the following way."
   ]
  },
  {
   "cell_type": "code",
   "execution_count": null,
   "id": "450cc3f5",
   "metadata": {},
   "outputs": [],
   "source": [
    "code_delay = RepetitionCode(d,T,resets=False,delay=480)\n",
    "\n",
    "transpiled_circuits = {\n",
    "    bit:transpile(code_delay.circuit[bit], backend=backend, initial_layout=initial_layout) for bit in ['0','1']\n",
    "}\n",
    "\n",
    "job = backend.run([transpiled_circuits['0'], transpiled_circuits['1']])\n",
    "\n",
    "job.job_id()"
   ]
  },
  {
   "cell_type": "markdown",
   "id": "244df581",
   "metadata": {},
   "source": [
    "Again, let's retrieve the results."
   ]
  },
  {
   "cell_type": "code",
   "execution_count": null,
   "id": "2a7f3492",
   "metadata": {},
   "outputs": [],
   "source": [
    "job = backend.retrieve_job('6169a2d782ec5a9549ddef3d')\n",
    "\n",
    "raw_results = {\n",
    "    '0':job.result().get_counts(transpiled_circuits['0']),\n",
    "    '1':job.result().get_counts(transpiled_circuits['1'])\n",
    "}\n",
    "\n",
    "results_delay = code.process_results(raw_results)"
   ]
  },
  {
   "cell_type": "markdown",
   "id": "f6a1b147",
   "metadata": {},
   "source": [
    "Now let's look at the probabilities for each of our example errors in each of these cases. As a reminder, here are our example errors.\n",
    "\n",
    "* 0: Initialization error on `code_qubit[0]`\n",
    "* 1: Error on `code_qubit[0]` while idle during first round of measurements.\n",
    "* 2: Error on `code_qubit[0]` while idle during second round of measurements.\n",
    "* 3: Initialization error on `code_qubit[1]`\n",
    "* 4: Error on `code_qubit[1]` while idle during first round of measurements.\n",
    "* 5: Error on `code_qubit[1]` while idle during second round of measurements.\n",
    "* 6: Error on `code_qubit[1]` between `cx` gates of first syndrome measurement.\n",
    "* 7: Measurement error on `link_qubit[1]` during first round of measurements.\n",
    "* 8: Measurement error on `link_qubit[1]` during second round of measurements."
   ]
  },
  {
   "cell_type": "code",
   "execution_count": null,
   "id": "13722bae",
   "metadata": {},
   "outputs": [],
   "source": [
    "for logical in ['0','1']:\n",
    "\n",
    "    print('\\nResults for encoded '+logical+'\\n')\n",
    "    \n",
    "    probs = GraphDecoder(code).get_error_probs(results,logical=logical)\n",
    "    probs_no_resets = GraphDecoder(code_no_resets).get_error_probs(results_no_resets,logical=logical)\n",
    "    probs_delay = GraphDecoder(code_delay).get_error_probs(results_delay,logical=logical)\n",
    "\n",
    "    print('Nodes     results              results_no_resets    results_delay')\n",
    "    for e,node in enumerate(example_nodes):\n",
    "        if node in probs:\n",
    "            print(e,'       ',probs[node],probs_no_resets[node],probs_delay[node])\n",
    "        else:\n",
    "            print(e,'        ',None)"
   ]
  },
  {
   "cell_type": "markdown",
   "id": "070a8268",
   "metadata": {},
   "source": [
    "Are the results what we expected? What secrets do we find out about these qubits?\n",
    "\n",
    "Now you have everything you need to know to understand them better than we do!"
   ]
  },
  {
   "cell_type": "code",
   "execution_count": null,
   "id": "fb332bd5",
   "metadata": {},
   "outputs": [],
   "source": []
  }
 ],
 "metadata": {
  "kernelspec": {
   "display_name": "Python 3",
   "language": "python",
   "name": "python3"
  },
  "language_info": {
   "codemirror_mode": {
    "name": "ipython",
    "version": 3
   },
   "file_extension": ".py",
   "mimetype": "text/x-python",
   "name": "python",
   "nbconvert_exporter": "python",
   "pygments_lexer": "ipython3",
   "version": "3.9.1"
  }
 },
 "nbformat": 4,
 "nbformat_minor": 5
}

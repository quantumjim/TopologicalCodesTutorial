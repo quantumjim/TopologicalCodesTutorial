{
 "cells": [
  {
   "cell_type": "markdown",
   "metadata": {},
   "source": [
    "# The QuDev Surface Code"
   ]
  },
  {
   "cell_type": "markdown",
   "metadata": {},
   "source": [
    "To install the required version of `topological_codes` use"
   ]
  },
  {
   "cell_type": "code",
   "execution_count": null,
   "metadata": {},
   "outputs": [],
   "source": [
    "! pip install git+https://github.com/NCCR-SPIN/topological_codes.git"
   ]
  },
  {
   "cell_type": "code",
   "execution_count": 2,
   "metadata": {},
   "outputs": [],
   "source": [
    "from qiskit import QuantumCircuit, QuantumRegister, ClassicalRegister, Aer\n",
    "from qiskit.providers.aer.noise import NoiseModel\n",
    "from topological_codes import SurfaceCode, GraphDecoder\n",
    "import numpy as np\n",
    "import pickle"
   ]
  },
  {
   "cell_type": "markdown",
   "metadata": {},
   "source": [
    "The surface code of the [\"Realizing Repeated Quantum Error Correction in a Distance-Three Surface Code\"](https://arxiv.org/abs/2112.03708) paper by the QuDev lab doesn't use the same conventions for the naming of plaquettes or syndrome measurement as the `SurfaceCode` class of `topological_codes`. We therefore need custom methods to replace the standard ones."
   ]
  },
  {
   "cell_type": "code",
   "execution_count": 3,
   "metadata": {},
   "outputs": [],
   "source": [
    "def _get_plaquettes(self):\n",
    "    assert self.d==3, 'The QuDev convention is not defined d='+str(self.d)+': only d=3 can be used.'\n",
    "    zplaqs = [[0,3,None,None],[4,7,3,6],[2,4,1,5],[None,None,5,8]]\n",
    "    xplaqs = [[None,None,2,1],[0,1,4,3],[4,5,8,7],[6,7,None,None]]\n",
    "    return zplaqs, xplaqs\n",
    "\n",
    "def syndrome_measurement(self, final=False, barrier=False):\n",
    "    \"\"\"\n",
    "    Application of a syndrome measurement round.\n",
    "    Args:\n",
    "        final (bool): If set to true add a reset at the end of each measurement.\n",
    "        barrier (bool): Boolean denoting whether to include a barrier at the end.\n",
    "    \"\"\"\n",
    "    \n",
    "    self._resets = False\n",
    "\n",
    "    num_bits = int((self.d**2 - 1)/2)\n",
    "\n",
    "    # classical registers for this round\n",
    "    self.zplaq_bits.append(ClassicalRegister(\n",
    "        self._num_xy, 'round_' + str(self.T) + '_zplaq_bit'))\n",
    "    self.xplaq_bits.append(ClassicalRegister(\n",
    "        self._num_xy, 'round_' + str(self.T) + '_xplaq_bit'))\n",
    "\n",
    "    for log in ['0', '1']:\n",
    "\n",
    "        self.circuit[log].add_register(self.zplaq_bits[-1])\n",
    "        self.circuit[log].add_register(self.xplaq_bits[-1])\n",
    "\n",
    "        # z plaquette measurement\n",
    "\n",
    "        self.circuit[log].h(self.zplaq_qubit) # part of ry(pi/2)\n",
    "        self.circuit[log].x(self.zplaq_qubit) # part of ry(pi/2)\n",
    "\n",
    "        self.circuit[log].cz(self.code_qubit[0], self.zplaq_qubit[0])\n",
    "        self.circuit[log].cz(self.code_qubit[4], self.zplaq_qubit[1])\n",
    "        self.circuit[log].cz(self.code_qubit[2], self.zplaq_qubit[2])\n",
    "\n",
    "        self.circuit[log].cz(self.code_qubit[3], self.zplaq_qubit[0])\n",
    "        self.circuit[log].cz(self.code_qubit[7], self.zplaq_qubit[1])\n",
    "        self.circuit[log].cz(self.code_qubit[4], self.zplaq_qubit[2])\n",
    "\n",
    "        self.circuit[log].y(self.code_qubit)\n",
    "\n",
    "        self.circuit[log].cz(self.code_qubit[3], self.zplaq_qubit[1])\n",
    "        self.circuit[log].cz(self.code_qubit[1], self.zplaq_qubit[2])\n",
    "        self.circuit[log].cz(self.code_qubit[5], self.zplaq_qubit[3])\n",
    "\n",
    "        self.circuit[log].cz(self.code_qubit[6], self.zplaq_qubit[1])\n",
    "        self.circuit[log].cz(self.code_qubit[5], self.zplaq_qubit[2])\n",
    "        self.circuit[log].cz(self.code_qubit[8], self.zplaq_qubit[3])\n",
    "\n",
    "        self.circuit[log].x(self.zplaq_qubit) # part of ry(-pi/2)\n",
    "        self.circuit[log].h(self.zplaq_qubit) # part of ry(-pi/2)\n",
    "\n",
    "        self.circuit[log].measure(self.zplaq_qubit, self.zplaq_bits[self.T])\n",
    "\n",
    "        # x plaquette measurement\n",
    "\n",
    "        self.circuit[log].h(self.xplaq_qubit) # part of ry(pi/2)\n",
    "        self.circuit[log].x(self.xplaq_qubit) # part of ry(pi/2)\n",
    "\n",
    "        self.circuit[log].x(self.code_qubit) # part of ry(-pi/2)\n",
    "        self.circuit[log].h(self.code_qubit) # part of ry(-pi/2)\n",
    "\n",
    "        self.circuit[log].cz(self.code_qubit[0], self.xplaq_qubit[1])\n",
    "        self.circuit[log].cz(self.code_qubit[4], self.xplaq_qubit[2]) \n",
    "        self.circuit[log].cz(self.code_qubit[6], self.xplaq_qubit[3])\n",
    "\n",
    "        self.circuit[log].cz(self.code_qubit[1], self.xplaq_qubit[1])\n",
    "        self.circuit[log].cz(self.code_qubit[5], self.xplaq_qubit[2]) \n",
    "        self.circuit[log].cz(self.code_qubit[7], self.xplaq_qubit[3]) \n",
    "\n",
    "        self.circuit[log].y(self.code_qubit)\n",
    "\n",
    "        self.circuit[log].cz(self.code_qubit[2], self.xplaq_qubit[0])\n",
    "        self.circuit[log].cz(self.code_qubit[4], self.xplaq_qubit[1]) \n",
    "        self.circuit[log].cz(self.code_qubit[8], self.xplaq_qubit[2])\n",
    "\n",
    "        self.circuit[log].cz(self.code_qubit[1], self.xplaq_qubit[0])\n",
    "        self.circuit[log].cz(self.code_qubit[3], self.xplaq_qubit[1]) \n",
    "        self.circuit[log].cz(self.code_qubit[7], self.xplaq_qubit[2])\n",
    "\n",
    "        self.circuit[log].x(self.code_qubit) # part of ry(-pi/2)\n",
    "        self.circuit[log].h(self.code_qubit) # part of ry(-pi/2)\n",
    "        self.circuit[log].x(self.xplaq_qubit) # part of ry(-pi/2)\n",
    "        self.circuit[log].h(self.xplaq_qubit) # part of ry(-pi/2)\n",
    "\n",
    "        self.circuit[log].measure(self.xplaq_qubit, self.xplaq_bits[self.T])\n",
    "\n",
    "    self.T += 1"
   ]
  },
  {
   "cell_type": "markdown",
   "metadata": {},
   "source": [
    "With these we can construct a class for QuDev surface codes."
   ]
  },
  {
   "cell_type": "code",
   "execution_count": 4,
   "metadata": {},
   "outputs": [],
   "source": [
    "class QudevSurfaceCode(SurfaceCode):\n",
    "    pass\n",
    "\n",
    "QudevSurfaceCode._get_plaquettes = _get_plaquettes\n",
    "QudevSurfaceCode.syndrome_measurement = syndrome_measurement"
   ]
  },
  {
   "cell_type": "markdown",
   "metadata": {},
   "source": [
    "To create a `QudevSurfaceCode` object we need to specify:\n",
    "* `d` - The code distance (which has to be 3);\n",
    "* `T` - the number of syndrome measurement rounds (there's currently a bug if this is not even);\n",
    "* `basis` - Whether to encode the states $|0\\rangle$ and $|1\\rangle$ (`basis='z'`), or $|+\\rangle$ and $|-\\rangle$ (`basis='x'`).\n",
    "\n",
    "Note that qubits and stabilizers are numbered from 1 in the paper but from 0 in this object. So `code_qubit[0]` is qubit D1, `zplaq_qubit[0]` is the auxillary qubit for the stabilizer $S^{Z1}$, and so on."
   ]
  },
  {
   "cell_type": "code",
   "execution_count": 5,
   "metadata": {},
   "outputs": [],
   "source": [
    "d = 3\n",
    "T = 2\n",
    "basis = 'z'\n",
    "\n",
    "code = QudevSurfaceCode(d,T,basis=basis)"
   ]
  },
  {
   "cell_type": "markdown",
   "metadata": {},
   "source": [
    "The code object contains circuits for the two possible logical encoded states: `code.circuit['0']`  `code.circuit['1']`. Note that `'0'` and `'1'` are used even for `basis='x'`.\n",
    "\n",
    "We can run these on a simulato to see the format of `raw_results` expected when processing results."
   ]
  },
  {
   "cell_type": "code",
   "execution_count": 6,
   "metadata": {},
   "outputs": [
    {
     "data": {
      "text/plain": [
       "{'0': {'011000110 0000 0000 0110 0000': 1,\n",
       "  '101101011 0000 0000 0111 0000': 1,\n",
       "  '000000110 0000 0000 1001 0000': 1,\n",
       "  '000000000 0000 0000 0110 0000': 1,\n",
       "  '101101011 0000 0000 1001 0000': 1},\n",
       " '1': {'100100100 0000 0000 1110 0000': 1,\n",
       "  '001001111 0000 0000 0101 0000': 1,\n",
       "  '100111001 0000 0000 1101 0000': 1,\n",
       "  '111100100 0000 0000 0000 0000': 1,\n",
       "  '001010010 0000 0000 0110 0000': 1}}"
      ]
     },
     "execution_count": 6,
     "metadata": {},
     "output_type": "execute_result"
    }
   ],
   "source": [
    "job = Aer.get_backend('aer_simulator').run([code.circuit['0'],code.circuit['1']],shots=5)\n",
    "raw_results = {'0':job.result().get_counts(0), '1':job.result().get_counts(1)}\n",
    "raw_results"
   ]
  },
  {
   "cell_type": "markdown",
   "metadata": {},
   "source": [
    "Here the output bit strings are of the form\n",
    "\n",
    "    'yxwvutsrq ponm lkji hgfe dcba'\n",
    "\n",
    "Where\n",
    "* `dcba` is the result of the first round of Z syndrome measurements (`a` is the result of $S^{Z1}$, `b` is the result of $S^{Z2}$, and so on.\n",
    "* `hgfe` is the result of the first round of X syndrome measurements.\n",
    "* `lkji` is the result of the second round of Z syndrome measurements.\n",
    "* `ponm` is the result of the second round of X syndrome measurements.\n",
    "* `yxwvutsrq` is the result of a final measurement of all qubits in the basis specified by `basis` (`q` is the result from qubit D1, and so on)."
   ]
  },
  {
   "cell_type": "markdown",
   "metadata": {},
   "source": [
    "The code object has the method `process_results` to put this into a more useful form for the decoder."
   ]
  },
  {
   "cell_type": "code",
   "execution_count": 7,
   "metadata": {},
   "outputs": [
    {
     "data": {
      "text/plain": [
       "{'0': {'0 0  0000 0000 0000': 5}, '1': {'1 1  0000 0000 0000': 5}}"
      ]
     },
     "execution_count": 7,
     "metadata": {},
     "output_type": "execute_result"
    }
   ],
   "source": [
    "results = code.process_results(raw_results)\n",
    "results"
   ]
  },
  {
   "cell_type": "markdown",
   "metadata": {},
   "source": [
    "These strings are of the form\n",
    "\n",
    "`'n m  dcba hgfe lkji'`\n",
    "\n",
    "where\n",
    "* `dcba` is the result of the first round of relevant syndrome measurements for the given `basis`;\n",
    "* `hgfe` has the differences between the first and second round;\n",
    "* `lkji` has the differences between the first and an effective final round extracted from the final code qubit measurements;\n",
    "* `n` and `m` are the two different measurements of the bare logical value for `basis`.\n",
    "\n",
    "Decoder objects are constructed for a given code object using `decoder = GraphDecoder(code)`. The process of creating the syndrome graph can take a while, so best to load in a premade one if possible."
   ]
  },
  {
   "cell_type": "code",
   "execution_count": 8,
   "metadata": {},
   "outputs": [],
   "source": [
    "try:\n",
    "    S = pickle.load(open( 'graphs/S'+str(T)+'.p', 'rb' ))\n",
    "    decoder = GraphDecoder(code, S=S)\n",
    "except:\n",
    "    decoder = GraphDecoder(code)"
   ]
  },
  {
   "cell_type": "markdown",
   "metadata": {},
   "source": [
    "Each edge in the syndrome graph represents a single qubit error that could occur at some point in the circuit. One of the things that the decoder can do is analzse the results to determine the probability of each of these errors."
   ]
  },
  {
   "cell_type": "code",
   "execution_count": 9,
   "metadata": {},
   "outputs": [
    {
     "data": {
      "text/plain": [
       "{((1, 0, 3), (1, 1, 3)): 0,\n",
       " ((1, 0, 2), (1, 1, 2)): 0,\n",
       " ((1, 0, 1), (1, 1, 1)): 0,\n",
       " ((1, 0, 0), (1, 1, 0)): 0,\n",
       " ((1, 0, 1), (1, 0, 2)): 0,\n",
       " ((1, 0, 2), (1, 0, 3)): 0,\n",
       " ((1, 0, 1), (1, 1, 2)): 0,\n",
       " ((1, 0, 2), (1, 1, 3)): 0,\n",
       " ((1, 1, 1), (1, 1, 2)): 0,\n",
       " ((1, 0, 0), (1, 0, 1)): 0,\n",
       " ((1, 0, 1), (1, 1, 0)): 0,\n",
       " ((1, 1, 2), (1, 1, 3)): 0,\n",
       " ((1, 1, 0), (1, 1, 1)): 0,\n",
       " ((1, 1, 1), (1, 1, 3)): 0,\n",
       " ((1, 1, 0), (1, 1, 2)): 0,\n",
       " ((1, 1, 3), (1, 2, 3)): 0,\n",
       " ((1, 1, 2), (1, 2, 2)): 0,\n",
       " ((1, 1, 1), (1, 2, 1)): 0,\n",
       " ((1, 1, 0), (1, 2, 0)): 0,\n",
       " ((1, 1, 1), (1, 2, 2)): 0,\n",
       " ((1, 1, 2), (1, 2, 3)): 0,\n",
       " ((1, 2, 1), (1, 2, 2)): 0,\n",
       " ((1, 1, 1), (1, 2, 0)): 0,\n",
       " ((1, 2, 2), (1, 2, 3)): 0,\n",
       " ((1, 2, 0), (1, 2, 1)): 0,\n",
       " ((1, 2, 1), (1, 2, 3)): 0,\n",
       " ((1, 2, 0), (1, 2, 2)): 0,\n",
       " ((1, 0, 3), (1, 0, 3)): 0.0,\n",
       " ((1, 0, 1), (1, 0, 1)): 0.0,\n",
       " ((1, 0, 2), (1, 0, 2)): 0.0,\n",
       " ((1, 1, 3), (1, 1, 3)): 0.0,\n",
       " ((1, 1, 1), (1, 1, 1)): 0.0,\n",
       " ((1, 1, 2), (1, 1, 2)): 0.0,\n",
       " ((1, 0, 0), (1, 0, 0)): 0.0,\n",
       " ((1, 1, 0), (1, 1, 0)): 0.0,\n",
       " ((1, 2, 3), (1, 2, 3)): 0.0,\n",
       " ((1, 2, 1), (1, 2, 1)): 0.0,\n",
       " ((1, 2, 2), (1, 2, 2)): 0.0,\n",
       " ((1, 2, 0), (1, 2, 0)): 0.0}"
      ]
     },
     "execution_count": 9,
     "metadata": {},
     "output_type": "execute_result"
    }
   ],
   "source": [
    "decoder.get_error_probs(results)"
   ]
  },
  {
   "cell_type": "markdown",
   "metadata": {},
   "source": [
    "Here the edges are labelled $((1,t,s),(1,t',s')$. The two sets of coordinates here represent the two syndrome measurements at which the error was detected. For these `t` is the round and `s` is the syndrome.\n",
    "\n",
    "We can associate differet types of edges with different kinds of noise:\n",
    "* $((1,t,s),(1,t+1,s))$ due to measurement errors on auxilliary qubits;\n",
    "* $((1,t,s),(1,t,s'))$ due to an error on the code qubit shared by $s$ and $s'$;\n",
    "* $((1,t,s),(1,t+1,s'))$ due to an error between the entangling gates while measuring $s$ and $s'$.\n",
    "\n",
    "In the results above there were no errors, so all probailities are zero. As an example, let's add some measurement errors."
   ]
  },
  {
   "cell_type": "code",
   "execution_count": 10,
   "metadata": {},
   "outputs": [
    {
     "data": {
      "text/plain": [
       "{((1, 0, 3), (1, 1, 3)): 0.00028033542314359616,\n",
       " ((1, 0, 2), (1, 1, 2)): 0.00016212675074472882,\n",
       " ((1, 0, 1), (1, 1, 1)): 0.00015413791540541677,\n",
       " ((1, 0, 0), (1, 1, 0)): 2.1975001398000238e-05,\n",
       " ((1, 0, 1), (1, 0, 2)): 0,\n",
       " ((1, 0, 2), (1, 0, 3)): 2.530790039834141e-05,\n",
       " ((1, 0, 1), (1, 1, 2)): 2.9875424465364286e-05,\n",
       " ((1, 0, 2), (1, 1, 3)): 2.4042380370847827e-05,\n",
       " ((1, 1, 1), (1, 1, 2)): 0,\n",
       " ((1, 0, 0), (1, 0, 1)): 0.0001502068833174608,\n",
       " ((1, 0, 1), (1, 1, 0)): 0.0001357419529478543,\n",
       " ((1, 1, 2), (1, 1, 3)): 3.651412637395435e-05,\n",
       " ((1, 1, 0), (1, 1, 1)): 2.6052269803067407e-05,\n",
       " ((1, 1, 1), (1, 1, 3)): 0.000160774967332189,\n",
       " ((1, 1, 0), (1, 1, 2)): 0,\n",
       " ((1, 1, 3), (1, 2, 3)): 0.009574785008563513,\n",
       " ((1, 1, 2), (1, 2, 2)): 0.008462987727798355,\n",
       " ((1, 1, 1), (1, 2, 1)): 0.008859737526743627,\n",
       " ((1, 1, 0), (1, 2, 0)): 0.010717990540314581,\n",
       " ((1, 1, 1), (1, 2, 2)): 0,\n",
       " ((1, 1, 2), (1, 2, 3)): 0.00014394353274765903,\n",
       " ((1, 2, 1), (1, 2, 2)): 0.009803535875825997,\n",
       " ((1, 1, 1), (1, 2, 0)): 0,\n",
       " ((1, 2, 2), (1, 2, 3)): 0.011714406510873243,\n",
       " ((1, 2, 0), (1, 2, 1)): 0.011504211998779046,\n",
       " ((1, 2, 1), (1, 2, 3)): 0.0011379376322194767,\n",
       " ((1, 2, 0), (1, 2, 2)): 0.0006467202678944739,\n",
       " ((1, 0, 3), (1, 0, 3)): 0.009465781903314152,\n",
       " ((1, 0, 1), (1, 0, 1)): 0.010159856559385005,\n",
       " ((1, 0, 2), (1, 0, 2)): 0.009802451461122685,\n",
       " ((1, 1, 3), (1, 1, 3)): -0.00018268544120836339,\n",
       " ((1, 1, 1), (1, 1, 1)): -0.00016441651782361788,\n",
       " ((1, 1, 2), (1, 1, 2)): -4.0711734963116974e-05,\n",
       " ((1, 0, 0), (1, 0, 0)): 0.00923041727879409,\n",
       " ((1, 1, 0), (1, 1, 0)): -0.0001590864993765706,\n",
       " ((1, 2, 3), (1, 2, 3)): 0.019341389707896894,\n",
       " ((1, 2, 1), (1, 2, 1)): 0.029259427977600838,\n",
       " ((1, 2, 2), (1, 2, 2)): 0.028990776155995157,\n",
       " ((1, 2, 0), (1, 2, 0)): 0.020316343543227755}"
      ]
     },
     "execution_count": 10,
     "metadata": {},
     "output_type": "execute_result"
    }
   ],
   "source": [
    "p = 0.01\n",
    "\n",
    "noise_model = NoiseModel()\n",
    "noise_model.add_all_qubit_readout_error([[1-p,p],[p,1-p]])\n",
    "\n",
    "job = Aer.get_backend('aer_simulator').run([code.circuit['0'],code.circuit['1']], noise_model=noise_model, shots=8192)\n",
    "raw_results = {'0':job.result().get_counts(0), '1':job.result().get_counts(1)}\n",
    "\n",
    "results = code.process_results(raw_results)\n",
    "\n",
    "decoder.get_error_probs(results)"
   ]
  },
  {
   "cell_type": "markdown",
   "metadata": {},
   "source": [
    "Here we see some of the probabilities associated with measurement errors coming out around the right value. But some of the measurement error probabilities come out as zero, and some non-measurement errors are non-zero. So it seems there are some issues to be looked at next year."
   ]
  },
  {
   "cell_type": "code",
   "execution_count": null,
   "metadata": {},
   "outputs": [],
   "source": []
  }
 ],
 "metadata": {
  "kernelspec": {
   "display_name": "Python 3",
   "language": "python",
   "name": "python3"
  },
  "language_info": {
   "codemirror_mode": {
    "name": "ipython",
    "version": 3
   },
   "file_extension": ".py",
   "mimetype": "text/x-python",
   "name": "python",
   "nbconvert_exporter": "python",
   "pygments_lexer": "ipython3",
   "version": "3.9.1"
  }
 },
 "nbformat": 4,
 "nbformat_minor": 4
}
